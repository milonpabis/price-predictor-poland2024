{
 "cells": [
  {
   "cell_type": "code",
   "execution_count": 1,
   "id": "fc4c5c49-1cfa-4558-bc26-92792ec29342",
   "metadata": {},
   "outputs": [],
   "source": [
    "import os\n",
    "import sys\n",
    "sys.path.append(os.path.abspath(\"..\"))\n",
    "\n",
    "from sqlalchemy import create_engine, text\n",
    "from sqlalchemy.orm import sessionmaker\n",
    "import psycopg2\n",
    "\n",
    "import pandas as pd\n",
    "import numpy as np\n",
    "from scipy.stats import zscore\n",
    "import matplotlib.pyplot as plt\n",
    "import seaborn as sns\n",
    "plt.style.use('ggplot')\n",
    "\n",
    "from data_pipeline.EntryDataCleaning import EntryDataCleaning\n",
    "\n",
    "NEON_URI = os.environ.get(\"DB_URI_NEON\")\n",
    "NEON_PASSWORD = os.environ.get(\"DB_PASSWORD_NEON\")\n",
    "if not NEON_URI or not NEON_PASSWORD:\n",
    "    raise \"DB_URI_NEON and DB_PASSWORD_NEON environment variables must be set\"\n",
    "\n",
    "NEON_CONNECTION_URI = f\"postgresql+psycopg2://FlatsDB_owner:{NEON_PASSWORD}@{NEON_URI}/FlatsDB?sslmode=require\" if NEON_URI and NEON_PASSWORD else None"
   ]
  },
  {
   "cell_type": "code",
   "execution_count": 2,
   "id": "bed2d1e7-04ab-4f90-b572-e02850a773da",
   "metadata": {},
   "outputs": [],
   "source": [
    "engine = create_engine(NEON_CONNECTION_URI)\n",
    "Session = sessionmaker(bind=engine)"
   ]
  },
  {
   "cell_type": "code",
   "execution_count": 3,
   "id": "8e69273e-d647-4f17-9b40-bee0b7d39e4d",
   "metadata": {},
   "outputs": [],
   "source": [
    "def get_all_offers() -> pd.DataFrame:\n",
    "    Q_GET_OFFERS = \"\"\"\n",
    "    SELECT *\n",
    "    FROM offers;\n",
    "    \"\"\"    \n",
    "    with Session() as session:\n",
    "        res = session.execute(text(Q_GET_OFFERS))\n",
    "        df = pd.DataFrame(res.fetchall())\n",
    "        df.index = df[\"id\"]\n",
    "        df.drop(\"id\", axis=1, inplace=True)\n",
    "        df = df.replace(\"-1\", np.nan)\n",
    "        return df"
   ]
  },
  {
   "cell_type": "code",
   "execution_count": 4,
   "id": "8f567f9f-4f19-443f-9d6f-ff49510ffb5f",
   "metadata": {},
   "outputs": [],
   "source": [
    "dcleaning = EntryDataCleaning(get_all_offers())\n",
    "df = dcleaning.run()"
   ]
  },
  {
   "cell_type": "code",
   "execution_count": 8,
   "id": "dad01298-b9f4-42b6-98d7-60113844e7b9",
   "metadata": {},
   "outputs": [
    {
     "data": {
      "text/html": [
       "<div>\n",
       "<style scoped>\n",
       "    .dataframe tbody tr th:only-of-type {\n",
       "        vertical-align: middle;\n",
       "    }\n",
       "\n",
       "    .dataframe tbody tr th {\n",
       "        vertical-align: top;\n",
       "    }\n",
       "\n",
       "    .dataframe thead th {\n",
       "        text-align: right;\n",
       "    }\n",
       "</style>\n",
       "<table border=\"1\" class=\"dataframe\">\n",
       "  <thead>\n",
       "    <tr style=\"text-align: right;\">\n",
       "      <th></th>\n",
       "      <th>url_id</th>\n",
       "      <th>price</th>\n",
       "      <th>area</th>\n",
       "      <th>rooms</th>\n",
       "      <th>floor</th>\n",
       "      <th>floor_num</th>\n",
       "      <th>construction_status</th>\n",
       "      <th>ownership</th>\n",
       "      <th>build_year</th>\n",
       "      <th>balcony</th>\n",
       "      <th>...</th>\n",
       "      <th>lift</th>\n",
       "      <th>garage</th>\n",
       "      <th>market</th>\n",
       "      <th>offer_type</th>\n",
       "      <th>city</th>\n",
       "      <th>voivodeship</th>\n",
       "      <th>longitude</th>\n",
       "      <th>latitude</th>\n",
       "      <th>created_at</th>\n",
       "      <th>modified_at</th>\n",
       "    </tr>\n",
       "    <tr>\n",
       "      <th>id</th>\n",
       "      <th></th>\n",
       "      <th></th>\n",
       "      <th></th>\n",
       "      <th></th>\n",
       "      <th></th>\n",
       "      <th></th>\n",
       "      <th></th>\n",
       "      <th></th>\n",
       "      <th></th>\n",
       "      <th></th>\n",
       "      <th></th>\n",
       "      <th></th>\n",
       "      <th></th>\n",
       "      <th></th>\n",
       "      <th></th>\n",
       "      <th></th>\n",
       "      <th></th>\n",
       "      <th></th>\n",
       "      <th></th>\n",
       "      <th></th>\n",
       "      <th></th>\n",
       "    </tr>\n",
       "  </thead>\n",
       "  <tbody>\n",
       "    <tr>\n",
       "      <th>4</th>\n",
       "      <td>142277</td>\n",
       "      <td>259000</td>\n",
       "      <td>41.97</td>\n",
       "      <td>2</td>\n",
       "      <td>1</td>\n",
       "      <td>4</td>\n",
       "      <td>ready_to_use</td>\n",
       "      <td>full_ownership</td>\n",
       "      <td>NaN</td>\n",
       "      <td>1</td>\n",
       "      <td>...</td>\n",
       "      <td>0</td>\n",
       "      <td>0</td>\n",
       "      <td>secondary</td>\n",
       "      <td>mieszkanie</td>\n",
       "      <td>Wałbrzych</td>\n",
       "      <td>dolnośląskie</td>\n",
       "      <td>16.276918</td>\n",
       "      <td>50.811157</td>\n",
       "      <td>2024-09-30 13:47:02+00:00</td>\n",
       "      <td>2024-10-30 15:01:25+00:00</td>\n",
       "    </tr>\n",
       "    <tr>\n",
       "      <th>5</th>\n",
       "      <td>120108</td>\n",
       "      <td>389000</td>\n",
       "      <td>63.36</td>\n",
       "      <td>3</td>\n",
       "      <td>1</td>\n",
       "      <td>7</td>\n",
       "      <td>ready_to_use</td>\n",
       "      <td>limited_ownership</td>\n",
       "      <td>1986</td>\n",
       "      <td>0</td>\n",
       "      <td>...</td>\n",
       "      <td>1</td>\n",
       "      <td>0</td>\n",
       "      <td>secondary</td>\n",
       "      <td>mieszkanie</td>\n",
       "      <td>Bydgoszcz</td>\n",
       "      <td>kujawsko-pomorskie</td>\n",
       "      <td>18.129560</td>\n",
       "      <td>53.151440</td>\n",
       "      <td>2024-04-14 20:25:22+00:00</td>\n",
       "      <td>2024-10-30 08:19:33+00:00</td>\n",
       "    </tr>\n",
       "    <tr>\n",
       "      <th>6</th>\n",
       "      <td>142666</td>\n",
       "      <td>495000</td>\n",
       "      <td>48.20</td>\n",
       "      <td>3</td>\n",
       "      <td>9</td>\n",
       "      <td>10</td>\n",
       "      <td>to_renovation</td>\n",
       "      <td>limited_ownership</td>\n",
       "      <td>1967</td>\n",
       "      <td>1</td>\n",
       "      <td>...</td>\n",
       "      <td>1</td>\n",
       "      <td>0</td>\n",
       "      <td>secondary</td>\n",
       "      <td>mieszkanie</td>\n",
       "      <td>Poznań</td>\n",
       "      <td>wielkopolskie</td>\n",
       "      <td>16.907310</td>\n",
       "      <td>52.371820</td>\n",
       "      <td>2024-09-30 09:11:21+00:00</td>\n",
       "      <td>2024-10-30 10:16:07+00:00</td>\n",
       "    </tr>\n",
       "    <tr>\n",
       "      <th>7</th>\n",
       "      <td>159406</td>\n",
       "      <td>552628</td>\n",
       "      <td>54.91</td>\n",
       "      <td>3</td>\n",
       "      <td>5</td>\n",
       "      <td>8</td>\n",
       "      <td>to_completion</td>\n",
       "      <td>full_ownership</td>\n",
       "      <td>2026</td>\n",
       "      <td>1</td>\n",
       "      <td>...</td>\n",
       "      <td>1</td>\n",
       "      <td>0</td>\n",
       "      <td>primary</td>\n",
       "      <td>mieszkanie</td>\n",
       "      <td>Poznań</td>\n",
       "      <td>wielkopolskie</td>\n",
       "      <td>16.949863</td>\n",
       "      <td>52.375072</td>\n",
       "      <td>2024-10-16 19:45:37+00:00</td>\n",
       "      <td>2024-11-02 10:30:36+00:00</td>\n",
       "    </tr>\n",
       "    <tr>\n",
       "      <th>8</th>\n",
       "      <td>80447</td>\n",
       "      <td>400000</td>\n",
       "      <td>35.60</td>\n",
       "      <td>1</td>\n",
       "      <td>3</td>\n",
       "      <td>5</td>\n",
       "      <td>ready_to_use</td>\n",
       "      <td>full_ownership</td>\n",
       "      <td>2000</td>\n",
       "      <td>0</td>\n",
       "      <td>...</td>\n",
       "      <td>0</td>\n",
       "      <td>0</td>\n",
       "      <td>secondary</td>\n",
       "      <td>mieszkanie</td>\n",
       "      <td>Poznań</td>\n",
       "      <td>wielkopolskie</td>\n",
       "      <td>16.911043</td>\n",
       "      <td>52.389239</td>\n",
       "      <td>2024-10-04 10:29:06+00:00</td>\n",
       "      <td>2024-10-31 08:53:33+00:00</td>\n",
       "    </tr>\n",
       "  </tbody>\n",
       "</table>\n",
       "<p>5 rows × 21 columns</p>\n",
       "</div>"
      ],
      "text/plain": [
       "    url_id   price   area  rooms  floor floor_num construction_status  \\\n",
       "id                                                                      \n",
       "4   142277  259000  41.97      2      1         4        ready_to_use   \n",
       "5   120108  389000  63.36      3      1         7        ready_to_use   \n",
       "6   142666  495000  48.20      3      9        10       to_renovation   \n",
       "7   159406  552628  54.91      3      5         8       to_completion   \n",
       "8    80447  400000  35.60      1      3         5        ready_to_use   \n",
       "\n",
       "            ownership build_year  balcony  ...  lift  garage     market  \\\n",
       "id                                         ...                            \n",
       "4      full_ownership        NaN        1  ...     0       0  secondary   \n",
       "5   limited_ownership       1986        0  ...     1       0  secondary   \n",
       "6   limited_ownership       1967        1  ...     1       0  secondary   \n",
       "7      full_ownership       2026        1  ...     1       0    primary   \n",
       "8      full_ownership       2000        0  ...     0       0  secondary   \n",
       "\n",
       "    offer_type       city         voivodeship  longitude   latitude  \\\n",
       "id                                                                    \n",
       "4   mieszkanie  Wałbrzych        dolnośląskie  16.276918  50.811157   \n",
       "5   mieszkanie  Bydgoszcz  kujawsko-pomorskie  18.129560  53.151440   \n",
       "6   mieszkanie     Poznań       wielkopolskie  16.907310  52.371820   \n",
       "7   mieszkanie     Poznań       wielkopolskie  16.949863  52.375072   \n",
       "8   mieszkanie     Poznań       wielkopolskie  16.911043  52.389239   \n",
       "\n",
       "                  created_at               modified_at  \n",
       "id                                                      \n",
       "4  2024-09-30 13:47:02+00:00 2024-10-30 15:01:25+00:00  \n",
       "5  2024-04-14 20:25:22+00:00 2024-10-30 08:19:33+00:00  \n",
       "6  2024-09-30 09:11:21+00:00 2024-10-30 10:16:07+00:00  \n",
       "7  2024-10-16 19:45:37+00:00 2024-11-02 10:30:36+00:00  \n",
       "8  2024-10-04 10:29:06+00:00 2024-10-31 08:53:33+00:00  \n",
       "\n",
       "[5 rows x 21 columns]"
      ]
     },
     "execution_count": 8,
     "metadata": {},
     "output_type": "execute_result"
    }
   ],
   "source": [
    "df.head()"
   ]
  },
  {
   "cell_type": "code",
   "execution_count": null,
   "id": "d3c4a069-377c-479f-aa79-896032036963",
   "metadata": {},
   "outputs": [],
   "source": [
    "class FilterOutliers:\n",
    "\n",
    "    def __init__(self, df: pd.DataFrame) -> None:\n",
    "        self.df = df\n",
    "\n",
    "    def floor_num(self) -> None:\n",
    "        self.df = self.df[(self.df[\"floor_num\"] >= \"1\") & (self.df[\"floor_num\"] <= \"24\") | (self.df[\"floor_num\"].isna())]\n",
    "        return self\n",
    "\n",
    "    \n",
    "    "
   ]
  },
  {
   "cell_type": "code",
   "execution_count": 99,
   "id": "538e496d-5f2f-42c4-a995-934b39483f7f",
   "metadata": {},
   "outputs": [
    {
     "data": {
      "text/plain": [
       "Index(['url_id', 'price', 'area', 'rooms', 'floor', 'floor_num',\n",
       "       'construction_status', 'ownership', 'build_year', 'balcony', 'terrace',\n",
       "       'lift', 'garage', 'market', 'offer_type', 'city', 'voivodeship',\n",
       "       'longitude', 'latitude', 'created_at', 'modified_at'],\n",
       "      dtype='object')"
      ]
     },
     "execution_count": 99,
     "metadata": {},
     "output_type": "execute_result"
    }
   ],
   "source": [
    "df.columns"
   ]
  },
  {
   "cell_type": "code",
   "execution_count": 145,
   "id": "9567b7bd-6bb1-437a-990d-3108964a8590",
   "metadata": {},
   "outputs": [],
   "source": [
    "NUMERICAL_COLS = [\"price\", \"area\", \"floor_num\", \"build_year\"]"
   ]
  },
  {
   "cell_type": "code",
   "execution_count": 185,
   "id": "391bc09f-9a52-4780-b78d-9f08ad3b868f",
   "metadata": {},
   "outputs": [
    {
     "data": {
      "image/png": "[encoded data removed]",
      "text/plain": [
       "<Figure size 1200x600 with 8 Axes>"
      ]
     },
     "metadata": {},
     "output_type": "display_data"
    }
   ],
   "source": [
    "fig, axes = plt.subplots(figsize=(12,6), nrows=2, ncols=4, dpi=100)\n",
    "axes = axes.flatten()\n",
    "for idx, col in enumerate(NUMERICAL_COLS):\n",
    "    col_data = df[~df[col].isna()][[col]]\n",
    "    if col != \"area\":\n",
    "        col_data = col_data.astype(int)\n",
    "    unfiltered = col_data.copy()\n",
    "    if col == \"build_year\":\n",
    "        col_data = col_data[(col_data[\"build_year\"] > 1900) & (col_data[\"build_year\"] < 2030)]\n",
    "    if col == \"area\":\n",
    "        col_data = col_data[(col_data[\"area\"] > 15) & (col_data[\"area\"] < 300)]\n",
    "    if col == \"price\":\n",
    "        col_data = col_data[(col_data[\"price\"] > 200_000) & (col_data[\"price\"] < 5_000_000)]\n",
    "    col_data[\"zscore\"] = zscore(col_data[col])\n",
    "    filtered = col_data[abs(col_data[\"zscore\"]) <= 3]\n",
    "\n",
    "    fil_min = filtered[col].min()\n",
    "    fil_max = filtered[col].max()\n",
    "    filtered_range = (fil_min, fil_max)\n",
    "    filtered_bins = range(fil_min, fil_max+1) if col in [\"rooms\", \"floor\", \"floor_num\", \"build_year\"] else 20\n",
    "    unfiltered_bins = 20\n",
    "\n",
    "    x = np.linspace(fil_min, fil_max, 100)\n",
    "    \n",
    "    axes[2*(idx)].hist(filtered[col],\n",
    "                 color=\"dodgerblue\",\n",
    "                 alpha=0.7,\n",
    "                 edgecolor=\"white\",\n",
    "                 range=filtered_range,\n",
    "                 bins=filtered_bins)\n",
    "    axes[2*(idx)].axvline(fil_min, linestyle=\"--\", color=\"black\", alpha=0.5)\n",
    "    axes[2*(idx)].axvline(fil_max, linestyle=\"--\", color=\"black\", alpha=0.5)\n",
    "    axes[2*(idx)].set_yscale(\"log\")\n",
    "    axes[2*(idx)].set_title(f\"Filtered {str(col).capitalize()} | {fil_min} - {fil_max} |\")\n",
    "    \n",
    "    axes[2*(idx)+1].hist(unfiltered[col],\n",
    "                 color=\"purple\",\n",
    "                 alpha=0.7,\n",
    "                 edgecolor=\"white\",\n",
    "                 bins=unfiltered_bins)\n",
    "    axes[2*(idx)+1].axvline(fil_min, linestyle=\"--\", color=\"dodgerblue\", alpha=0.5)\n",
    "    axes[2*(idx)+1].axvline(fil_max, linestyle=\"--\", color=\"dodgerblue\", alpha=0.5)\n",
    "    axes[2*(idx)+1].fill_between(x, 0, 10**4, where=(x >= fil_min) & (x <= fil_max), alpha=0.5, color=\"dodgerblue\")\n",
    "    axes[2*(idx)+1].set_yscale(\"log\")\n",
    "    axes[2*(idx)+1].set_title(f\"Unfiltered {str(col).capitalize()}\")\n",
    "\n",
    "fig.tight_layout()\n",
    "plt.show()"
   ]
  },
  {
   "cell_type": "code",
   "execution_count": 195,
   "id": "77062204-c690-4e01-b0bf-f00b78c82326",
   "metadata": {},
   "outputs": [],
   "source": [
    "def get_IQRbounds(df: pd.DataFrame, col: str, bounds: tuple = None, iscont: bool = False, a: float = 1.5):\n",
    "    col_data = df[~df[col].isna()][[col]]\n",
    "    if not iscont:\n",
    "        col_data = col_data.astype(int)\n",
    "    if bounds:\n",
    "        col_data = col_data[(col_data[col] >= bounds[0]) & (col_data[col] <= bounds[1])]\n",
    "    Q1 = col_data[col].quantile(0.25)\n",
    "    Q3 = col_data[col].quantile(0.75)\n",
    "    IQR = Q3 - Q1\n",
    "    return (Q1 - a*IQR, Q3 + a*IQR)"
   ]
  },
  {
   "cell_type": "code",
   "execution_count": 203,
   "id": "ae69cd1e-6e95-4fbe-90c2-b5f116bf3f60",
   "metadata": {},
   "outputs": [
    {
     "data": {
      "text/plain": [
       "(-171000.0, 1349000.0)"
      ]
     },
     "execution_count": 203,
     "metadata": {},
     "output_type": "execute_result"
    }
   ],
   "source": [
    "get_IQRbounds(df, \"price\", (150_000, 2_000_000))"
   ]
  },
  {
   "cell_type": "code",
   "execution_count": 205,
   "id": "d29a5909-ab87-4ec0-8e96-966327cfdacb",
   "metadata": {},
   "outputs": [
    {
     "data": {
      "text/plain": [
       "(5.800000000000004, 102.6)"
      ]
     },
     "execution_count": 205,
     "metadata": {},
     "output_type": "execute_result"
    }
   ],
   "source": [
    "get_IQRbounds(df, \"area\", (15, 200))"
   ]
  },
  {
   "cell_type": "code",
   "execution_count": 207,
   "id": "fb2bbd6f-6171-4eb0-b002-5ed3a52cb79c",
   "metadata": {},
   "outputs": [
    {
     "data": {
      "text/plain": [
       "154000.0"
      ]
     },
     "execution_count": 207,
     "metadata": {},
     "output_type": "execute_result"
    }
   ],
   "source": [
    "df[\"price\"].quantile(0.01)"
   ]
  },
  {
   "cell_type": "code",
   "execution_count": 209,
   "id": "c7b6ceee-eeb3-414f-bffc-d06ce35179a6",
   "metadata": {},
   "outputs": [
    {
     "data": {
      "text/plain": [
       "2650000.0"
      ]
     },
     "execution_count": 209,
     "metadata": {},
     "output_type": "execute_result"
    }
   ],
   "source": [
    "df[\"price\"].quantile(0.99)"
   ]
  },
  {
   "cell_type": "code",
   "execution_count": null,
   "id": "25c7f104-3d2f-4c75-9b41-255dc2def4e4",
   "metadata": {},
   "outputs": [],
   "source": []
  }
 ],
 "metadata": {
  "kernelspec": {
   "display_name": "Python 3 (ipykernel)",
   "language": "python",
   "name": "python3"
  },
  "language_info": {
   "codemirror_mode": {
    "name": "ipython",
    "version": 3
   },
   "file_extension": ".py",
   "mimetype": "text/x-python",
   "name": "python",
   "nbconvert_exporter": "python",
   "pygments_lexer": "ipython3",
   "version": "3.11.7"
  }
 },
 "nbformat": 4,
 "nbformat_minor": 5
}
