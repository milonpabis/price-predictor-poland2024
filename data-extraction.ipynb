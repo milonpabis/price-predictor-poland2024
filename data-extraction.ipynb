{
 "cells": [
  {
   "cell_type": "markdown",
   "id": "8f051fb1",
   "metadata": {},
   "source": [
    "# Data extraction\n",
    "\n",
    "In this section I am going to webscrape data about flats across Poland from https://www.otodom.pl."
   ]
  },
  {
   "cell_type": "code",
   "execution_count": 105,
   "id": "2daf3305",
   "metadata": {},
   "outputs": [],
   "source": [
    "from bs4 import BeautifulSoup\n",
    "import requests\n",
    "import json\n",
    "import numpy as np\n",
    "from typing import NamedTuple\n",
    "import datetime as dt\n",
    "import time"
   ]
  },
  {
   "cell_type": "code",
   "execution_count": 152,
   "id": "24b0dab7",
   "metadata": {},
   "outputs": [],
   "source": [
    "class PrimaryOfferInfo(NamedTuple):\n",
    "    # PRIMARY\n",
    "    price: str\n",
    "    area: str\n",
    "    ownership: str\n",
    "    n_rooms: int\n",
    "    construction_status: str\n",
    "    floor: int\n",
    "    balcony: str\n",
    "    terrace: str\n",
    "    garden: str\n",
    "    rent_price: str\n",
    "    car: str\n",
    "    # ADDITIONAL\n",
    "    build_year: str\n",
    "    lift: str\n",
    "    city: str\n",
    "        \n",
    "    def csv_format(self):\n",
    "        return \",\".join([self.price, self.area, self.ownership, self.n_rooms, self.construction_status,\n",
    "                         self.floor, self.balcony, self.terrace, self.garden, self.rent_price,\n",
    "                         self.car, self.build_year, self.lift, self.city])\n",
    "        \n",
    "    def __str__(self):\n",
    "        return f\"| Price={self.price} | Area={self.area} | Ownership={self.ownership} | No.Rooms={self.n_rooms} | Status={self.construction_status} |\\\n",
    "         Floor={self.floor} | Balcony={self.balcony} | Terrace={self.terrace} | Garden={self.garden} | RentPrice={self.rent_price} | Car={self.car} | \\\n",
    "         BuildYear={self.build_year} | Lift={self.lift} | City={self.city} |\""
   ]
  },
  {
   "cell_type": "code",
   "execution_count": 91,
   "id": "161bff89",
   "metadata": {},
   "outputs": [],
   "source": [
    "HEADERS = {\n",
    "    \"User-Agent\": \"Mozilla/5.0 (Windows NT 14.0) AppleWebKit/537.36 (KHTML, like Gecko) Chrome/105.0.4970.63 Safari/537.36 OPRGX/105.0.4970.63 OPR/105.0.4970.63\"\n",
    "}\n",
    "\n",
    "def get_page_info(endpoint, n_page: str) -> list:\n",
    "    try:\n",
    "        response = requests.get(ENDPOINT+n_page, headers=HEADERS)\n",
    "        response.raise_for_status()\n",
    "        print(response.status_code, end=\"\")\n",
    "        soup = BeautifulSoup(response.text, \"html.parser\")\n",
    "    except Exception as e:\n",
    "        print(\"ERROR\", e)\n",
    "        return None\n",
    "\n",
    "    res = soup.find_all(\"a\")\n",
    "    return [r[\"href\"] for r in res if \"/pl/oferta/\" in r[\"href\"] and r[\"href\"].startswith(\"/pl\")]\n",
    "    "
   ]
  },
  {
   "cell_type": "markdown",
   "id": "3e2c112a",
   "metadata": {},
   "source": [
    "# URLs scraper"
   ]
  },
  {
   "cell_type": "code",
   "execution_count": null,
   "id": "96993da6",
   "metadata": {},
   "outputs": [],
   "source": [
    "#%xmode verbose\n",
    "URL_NUMBER = 3000\n",
    "\n",
    "ENDPOINT = \"https://www.otodom.pl/pl/wyniki/sprzedaz/mieszkanie/cala-polska?viewType=listing&limit=72&page=\"\n",
    "pages = np.arange(1, 1000).astype(\"str\")\n",
    "\n",
    "start = dt.datetime.now()\n",
    "\n",
    "urls = set()\n",
    "\n",
    "idx = 0\n",
    "while len(urls) < URL_NUMBER:\n",
    "    urls |= set(get_page_info(ENDPOINT, pages[idx]))\n",
    "    idx += 1\n",
    "    print(f\"|{idx}: \", len(urls))\n",
    "\n",
    "with open(\"urls1.txt\", \"w\") as file:\n",
    "    for url in urls:\n",
    "        file.write(f\"{url}\\n\")\n",
    "\n",
    "\n",
    "\n",
    "    \n",
    "print(dt.datetime.now() - start)\n",
    "\n"
   ]
  },
  {
   "cell_type": "markdown",
   "id": "ecbb9db0",
   "metadata": {},
   "source": [
    "# Data scraping from each single URL"
   ]
  },
  {
   "cell_type": "code",
   "execution_count": 154,
   "id": "dd31eb1e",
   "metadata": {},
   "outputs": [
    {
     "name": "stdout",
     "output_type": "stream",
     "text": [
      "1\n",
      "ERROR 'Price' 3\n",
      "ERROR 'Price' 4\n",
      "11\n"
     ]
    }
   ],
   "source": [
    "OTODOM_ROOT = \"https://www.otodom.pl\"\n",
    "TEST_LINK = \"/pl/oferta/mieszkanie-w-samym-centrum-z-tarasem-ID4q2pi\"\n",
    "\n",
    "\n",
    "with open(\"urls1.txt\", \"r\") as file:\n",
    "    URLs = file.read().splitlines()\n",
    "    \n",
    "data = []\n",
    "\n",
    "    \n",
    "for i in range(20):\n",
    "    try:\n",
    "        response = requests.get(OTODOM_ROOT+URLs[i], headers=HEADERS)\n",
    "        response.raise_for_status()\n",
    "        #print(response.status_code)\n",
    "        if i % 10 == 1: print(i)\n",
    "        soup = BeautifulSoup(response.text, \"html.parser\")\n",
    "\n",
    "        json_text = soup.find(\"script\", {\"id\": \"__NEXT_DATA__\"})\n",
    "        js = json.loads(json_text.contents[0])\n",
    "        #print(js)\n",
    "        \n",
    "        price = str(js[\"props\"][\"pageProps\"][\"ad\"][\"target\"][\"Price\"])\n",
    "        city = str(js[\"props\"][\"pageProps\"][\"ad\"][\"target\"][\"City\"])\n",
    "        \n",
    "        area = js[\"props\"][\"pageProps\"][\"ad\"][\"topInformation\"][0][\"values\"]\n",
    "        if area: area = str(area[0])\n",
    "        else: area = \"-1\"\n",
    "            \n",
    "        ownership = js[\"props\"][\"pageProps\"][\"ad\"][\"topInformation\"][1][\"values\"]\n",
    "        if ownership: ownership = str(ownership[0])\n",
    "        else: ownership = \"-1\"\n",
    "            \n",
    "        n_rooms = js[\"props\"][\"pageProps\"][\"ad\"][\"topInformation\"][2][\"values\"]\n",
    "        if n_rooms: n_rooms = str(n_rooms[0])\n",
    "        else: n_rooms = \"-1\"\n",
    "            \n",
    "        construction_status = js[\"props\"][\"pageProps\"][\"ad\"][\"topInformation\"][3][\"values\"]\n",
    "        if construction_status: construction_status = str(construction_status[0])\n",
    "        else: construction_status = \"-1\"\n",
    "            \n",
    "        floor = js[\"props\"][\"pageProps\"][\"ad\"][\"topInformation\"][4][\"values\"]\n",
    "        if floor: floor = str(floor[0])\n",
    "        else: floor = \"-1\"\n",
    "            \n",
    "        outdoor_amenities = js[\"props\"][\"pageProps\"][\"ad\"][\"topInformation\"][5][\"values\"]\n",
    "        balcony = str(int(\"extras_types::balcony\" in outdoor_amenities))\n",
    "        terrace = str(int(\"extras_types::terrace\" in outdoor_amenities))\n",
    "        garden = str(int(\"extras_types::garden\" in outdoor_amenities))\n",
    "        \n",
    "        \n",
    "        rent_price = js[\"props\"][\"pageProps\"][\"ad\"][\"topInformation\"][6][\"values\"]\n",
    "        if rent_price: rent_price = str(rent_price[0])\n",
    "        else: rent_price = \"-1\"\n",
    "            \n",
    "        car = js[\"props\"][\"pageProps\"][\"ad\"][\"topInformation\"][7][\"values\"]\n",
    "        if car: car = str(car[0])\n",
    "        else: car = \"-1\"\n",
    "        \n",
    "        if js[\"props\"][\"pageProps\"][\"ad\"][\"additionalInformation\"]:\n",
    "            build_year = js[\"props\"][\"pageProps\"][\"ad\"][\"additionalInformation\"][3][\"values\"]\n",
    "            if build_year: build_year = str(build_year[0])\n",
    "            else: build_year = \"-1\"\n",
    "                \n",
    "            lift = js[\"props\"][\"pageProps\"][\"ad\"][\"additionalInformation\"][6][\"values\"]\n",
    "            if lift: lift = str(lift[0])\n",
    "            else: lift = \"-1\"\n",
    "        else:\n",
    "            build_year = \"-1\"\n",
    "            lift = \"-1\"\n",
    "    \n",
    "        info = PrimaryOfferInfo(price, area, ownership, n_rooms, construction_status,\n",
    "                                floor, balcony, terrace, garden, rent_price, car,\n",
    "                                build_year, lift, city)\n",
    "        \n",
    "        data.append(info)\n",
    "        \n",
    "\n",
    "\n",
    "    except Exception as e:\n",
    "        print(\"ERROR\", e, i)\n",
    "        \n",
    "    \n",
    "with open(\"otodom_data.csv\", \"w\") as file:\n",
    "    for info in data:\n",
    "        file.write(info.csv_format()+\"\\n\")"
   ]
  },
  {
   "cell_type": "code",
   "execution_count": 149,
   "id": "5b16cbcd",
   "metadata": {},
   "outputs": [
    {
     "data": {
      "text/plain": [
       "''"
      ]
     },
     "execution_count": 149,
     "metadata": {},
     "output_type": "execute_result"
    }
   ],
   "source": []
  },
  {
   "cell_type": "code",
   "execution_count": null,
   "id": "26ac1e6e",
   "metadata": {},
   "outputs": [],
   "source": []
  }
 ],
 "metadata": {
  "kernelspec": {
   "display_name": "Python 3 (ipykernel)",
   "language": "python",
   "name": "python3"
  },
  "language_info": {
   "codemirror_mode": {
    "name": "ipython",
    "version": 3
   },
   "file_extension": ".py",
   "mimetype": "text/x-python",
   "name": "python",
   "nbconvert_exporter": "python",
   "pygments_lexer": "ipython3",
   "version": "3.9.12"
  }
 },
 "nbformat": 4,
 "nbformat_minor": 5
}
