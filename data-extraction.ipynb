{
 "cells": [
  {
   "cell_type": "markdown",
   "id": "282e9d8b",
   "metadata": {},
   "source": [
    "# Data extraction\n",
    "\n",
    "In this section I am going to webscrape data about flats across Poland from https://www.otodom.pl."
   ]
  },
  {
   "cell_type": "code",
   "execution_count": 49,
   "id": "9411b2c9",
   "metadata": {},
   "outputs": [],
   "source": [
    "from bs4 import BeautifulSoup\n",
    "import requests\n",
    "import json\n",
    "import numpy as np\n",
    "from typing import NamedTuple\n",
    "import datetime as dt\n",
    "import time"
   ]
  },
  {
   "cell_type": "code",
   "execution_count": 27,
   "id": "c0b0fd33",
   "metadata": {},
   "outputs": [],
   "source": [
    "class PrimaryOfferInfo(NamedTuple):\n",
    "    price: int\n",
    "    url: str\n",
    "    country: str\n",
    "    city: str\n",
    "    n_rooms: int\n",
    "    area: float\n",
    "        \n",
    "    def __str__(self):\n",
    "        return f\"[{self.country}, {self.city}]: ( Area: {self.area}m^2 | Rooms: {self.n_rooms} | Price: {self.price}PLN )\\n{self.url}\""
   ]
  },
  {
   "cell_type": "code",
   "execution_count": 88,
   "id": "90a5a99c",
   "metadata": {},
   "outputs": [],
   "source": [
    "HEADERS = {\n",
    "    \"User-Agent\": \"Mozilla/5.0 (Windows NT 14.0) AppleWebKit/537.36 (KHTML, like Gecko) Chrome/105.0.4970.63 Safari/537.36 OPRGX/105.0.4970.63 OPR/105.0.4970.63\"\n",
    "}\n",
    "\n",
    "def get_page_info(endpoint, n_page: str) -> list:\n",
    "    try:\n",
    "        response = requests.get(ENDPOINT+n_page, headers=HEADERS)\n",
    "        response.raise_for_status()\n",
    "        print(response.status_code)\n",
    "        soup = BeautifulSoup(response.text, \"html.parser\")\n",
    "    except Exception as e:\n",
    "        print(\"ERROR\", e)\n",
    "        return None\n",
    "\n",
    "    res = soup.find_all(\"a\")\n",
    "    return [r[\"href\"] for r in res if \"/pl/oferta/\" in r[\"href\"] and r[\"href\"].startswith(\"/pl\")]\n",
    "    "
   ]
  },
  {
   "cell_type": "code",
   "execution_count": 90,
   "id": "a7bbfd7c",
   "metadata": {},
   "outputs": [
    {
     "name": "stdout",
     "output_type": "stream",
     "text": [
      "200\n",
      "87\n",
      "200\n",
      "174\n",
      "150\n",
      "0:00:02.097854\n"
     ]
    }
   ],
   "source": [
    "#%xmode verbose\n",
    "ENDPOINT = \"https://www.otodom.pl/pl/wyniki/sprzedaz/mieszkanie/cala-polska?viewType=listing&limit=72&page=\"\n",
    "pages = np.arange(1, 1000).astype(\"str\")\n",
    "\n",
    "start = dt.datetime.now()\n",
    "\n",
    "urls = []\n",
    "\n",
    "for page in [\"1\", \"2\"]:\n",
    "    urls += get_page_info(ENDPOINT, page)\n",
    "    print(len(urls))\n",
    "print(len(set(urls)))\n",
    "\n",
    "    \n",
    "print(dt.datetime.now() - start)\n",
    "\n"
   ]
  },
  {
   "cell_type": "code",
   "execution_count": null,
   "id": "439a1a49",
   "metadata": {},
   "outputs": [],
   "source": []
  },
  {
   "cell_type": "code",
   "execution_count": null,
   "id": "9333357d",
   "metadata": {},
   "outputs": [],
   "source": []
  }
 ],
 "metadata": {
  "kernelspec": {
   "display_name": "Python 3 (ipykernel)",
   "language": "python",
   "name": "python3"
  },
  "language_info": {
   "codemirror_mode": {
    "name": "ipython",
    "version": 3
   },
   "file_extension": ".py",
   "mimetype": "text/x-python",
   "name": "python",
   "nbconvert_exporter": "python",
   "pygments_lexer": "ipython3",
   "version": "3.9.12"
  }
 },
 "nbformat": 4,
 "nbformat_minor": 5
}
